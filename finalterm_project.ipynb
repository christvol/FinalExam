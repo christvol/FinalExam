{
  "cells": [
    {
      "cell_type": "markdown",
      "id": "mobile-johns",
      "metadata": {
        "id": "mobile-johns"
      },
      "source": [
        "# Load Packages"
      ]
    },
    {
      "cell_type": "code",
      "execution_count": 1,
      "id": "cosmetic-bolivia",
      "metadata": {
        "id": "cosmetic-bolivia"
      },
      "outputs": [],
      "source": [
        "# scikit-learn, scikit-image are needed\n",
        "# If those packages are missed, then, install them by using the following command\n",
        "# pip install scikit-learn scikit-image\n",
        "\n",
        "import os\n",
        "\n",
        "import sklearn.datasets\n",
        "import sklearn.linear_model\n",
        "import sklearn.svm\n",
        "import sklearn.tree\n",
        "import sklearn.ensemble\n",
        "import sklearn.model_selection\n",
        "import sklearn.metrics\n",
        "\n",
        "import skimage.io\n",
        "import skimage.transform\n",
        "import skimage.color\n",
        "\n",
        "import numpy as np\n",
        "\n",
        "import matplotlib.pyplot as plt \n",
        "%matplotlib inline"
      ]
    },
    {
      "cell_type": "markdown",
      "id": "modern-columbia",
      "metadata": {
        "id": "modern-columbia"
      },
      "source": [
        "# Load Additional Packages (if you want to use other modules in Scikit Learn)"
      ]
    },
    {
      "cell_type": "code",
      "execution_count": 2,
      "id": "racial-growing",
      "metadata": {
        "id": "racial-growing"
      },
      "outputs": [],
      "source": [
        "# Load additional scikit learn packages! if you need"
      ]
    },
    {
      "cell_type": "markdown",
      "id": "immediate-briefs",
      "metadata": {
        "id": "immediate-briefs"
      },
      "source": [
        "# Load Data Points (Do not modify the following block)"
      ]
    },
    {
      "cell_type": "code",
      "execution_count": 9,
      "id": "surgical-background",
      "metadata": {
        "scrolled": false,
        "colab": {
          "base_uri": "https://localhost:8080/",
          "height": 235
        },
        "id": "surgical-background",
        "outputId": "97824c36-01b1-4cad-d082-caf3deca7cd1"
      },
      "outputs": [
        {
          "output_type": "error",
          "ename": "FileNotFoundError",
          "evalue": "ignored",
          "traceback": [
            "\u001b[0;31m---------------------------------------------------------------------------\u001b[0m",
            "\u001b[0;31mFileNotFoundError\u001b[0m                         Traceback (most recent call last)",
            "\u001b[0;32m<ipython-input-9-a827765bb34f>\u001b[0m in \u001b[0;36m<module>\u001b[0;34m\u001b[0m\n\u001b[1;32m      6\u001b[0m \u001b[0;32mfor\u001b[0m \u001b[0mi\u001b[0m \u001b[0;32min\u001b[0m \u001b[0mlabels\u001b[0m\u001b[0;34m:\u001b[0m\u001b[0;34m\u001b[0m\u001b[0;34m\u001b[0m\u001b[0m\n\u001b[1;32m      7\u001b[0m     \u001b[0mfolderPath\u001b[0m \u001b[0;34m=\u001b[0m \u001b[0mos\u001b[0m\u001b[0;34m.\u001b[0m\u001b[0mpath\u001b[0m\u001b[0;34m.\u001b[0m\u001b[0mjoin\u001b[0m\u001b[0;34m(\u001b[0m\u001b[0;34m'./tumor_dataset/Training'\u001b[0m\u001b[0;34m,\u001b[0m\u001b[0mi\u001b[0m\u001b[0;34m)\u001b[0m\u001b[0;34m\u001b[0m\u001b[0;34m\u001b[0m\u001b[0m\n\u001b[0;32m----> 8\u001b[0;31m     \u001b[0;32mfor\u001b[0m \u001b[0mj\u001b[0m \u001b[0;32min\u001b[0m \u001b[0mos\u001b[0m\u001b[0;34m.\u001b[0m\u001b[0mlistdir\u001b[0m\u001b[0;34m(\u001b[0m\u001b[0mfolderPath\u001b[0m\u001b[0;34m)\u001b[0m\u001b[0;34m:\u001b[0m\u001b[0;34m\u001b[0m\u001b[0;34m\u001b[0m\u001b[0m\n\u001b[0m\u001b[1;32m      9\u001b[0m         \u001b[0mimg\u001b[0m \u001b[0;34m=\u001b[0m \u001b[0mskimage\u001b[0m\u001b[0;34m.\u001b[0m\u001b[0mio\u001b[0m\u001b[0;34m.\u001b[0m\u001b[0mimread\u001b[0m\u001b[0;34m(\u001b[0m\u001b[0mos\u001b[0m\u001b[0;34m.\u001b[0m\u001b[0mpath\u001b[0m\u001b[0;34m.\u001b[0m\u001b[0mjoin\u001b[0m\u001b[0;34m(\u001b[0m\u001b[0mfolderPath\u001b[0m\u001b[0;34m,\u001b[0m\u001b[0mj\u001b[0m\u001b[0;34m)\u001b[0m\u001b[0;34m,\u001b[0m\u001b[0;34m)\u001b[0m\u001b[0;34m\u001b[0m\u001b[0;34m\u001b[0m\u001b[0m\n\u001b[1;32m     10\u001b[0m         \u001b[0mimg\u001b[0m \u001b[0;34m=\u001b[0m \u001b[0mskimage\u001b[0m\u001b[0;34m.\u001b[0m\u001b[0mtransform\u001b[0m\u001b[0;34m.\u001b[0m\u001b[0mresize\u001b[0m\u001b[0;34m(\u001b[0m\u001b[0mimg\u001b[0m\u001b[0;34m,\u001b[0m\u001b[0;34m(\u001b[0m\u001b[0mimage_size\u001b[0m\u001b[0;34m,\u001b[0m\u001b[0mimage_size\u001b[0m\u001b[0;34m)\u001b[0m\u001b[0;34m)\u001b[0m\u001b[0;34m\u001b[0m\u001b[0;34m\u001b[0m\u001b[0m\n",
            "\u001b[0;31mFileNotFoundError\u001b[0m: [Errno 2] No such file or directory: './tumor_dataset/Training/glioma_tumor'"
          ]
        }
      ],
      "source": [
        "image_size = 64\n",
        "labels = ['glioma_tumor','meningioma_tumor','no_tumor','pituitary_tumor']\n",
        "\n",
        "images = []\n",
        "y = []\n",
        "for i in labels:\n",
        "    folderPath = os.path.join('./tumor_dataset/Training',i)\n",
        "    for j in os.listdir(folderPath):\n",
        "        img = skimage.io.imread(os.path.join(folderPath,j),)\n",
        "        img = skimage.transform.resize(img,(image_size,image_size))\n",
        "        img = skimage.color.rgb2gray(img)\n",
        "        images.append(img)\n",
        "        y.append(i)\n",
        "        \n",
        "images = np.array(images)\n",
        "\n",
        "X = images.reshape((-1, image_size**2))\n",
        "y = np.array(y)"
      ]
    },
    {
      "cell_type": "code",
      "execution_count": 7,
      "id": "5ff63d2b",
      "metadata": {
        "scrolled": false,
        "id": "5ff63d2b"
      },
      "outputs": [],
      "source": [
        "j = 0\n",
        "for i in range(len(y)):\n",
        "    if y[i] in labels[j]:\n",
        "        plt.imshow(images[i])\n",
        "        plt.title(\"[Index:{}] Label:{}\".format(i, y[i]))\n",
        "        plt.show()\n",
        "        j += 1\n",
        "    if j >= len(labels):\n",
        "        break"
      ]
    },
    {
      "cell_type": "code",
      "execution_count": 11,
      "id": "cc23d262",
      "metadata": {
        "id": "cc23d262"
      },
      "outputs": [],
      "source": [
        "X_train, X_test, y_train, y_test = sklearn.model_selection.train_test_split(X, y, test_size=0.3, random_state=0)"
      ]
    },
    {
      "cell_type": "markdown",
      "id": "isolated-airfare",
      "metadata": {
        "id": "isolated-airfare"
      },
      "source": [
        "# Classification with Scikit Learn Library (Programming Assignment)\n",
        "### Variable Explanation (Do not change variable names)\n",
        "- 'X_train' is feature vectors of training dataset\n",
        "- 'y_train' is target labels of training dataset\n",
        "- 'X_test' is feature vectors of test dataset\n",
        "- 'y_test' is target labels of test dataset\n",
        "- 'y_pred' was initialized as zero vectors and fill 'y_pred' with predicted labels\n",
        "\n",
        "### Find the best model and hyperparameter for face recognition"
      ]
    },
    {
      "cell_type": "code",
      "execution_count": 12,
      "id": "funded-playing",
      "metadata": {
        "id": "funded-playing"
      },
      "outputs": [],
      "source": [
        "#TODO\n",
        "#1. Create a classification object in scikit learn package (such as perceptron, logistic regression, or other classification algorithms)\n",
        "#2. Fit the object to training dataset\n",
        "#3. Predict the label of test data point (X_test)\n",
        "# - Do not change the variable name \"y_pred\"\n",
        "\n",
        "model=sklearn.linear_model.Perceptron()\n",
        "model.fit(X_train, y_train)\n",
        "y_pred=model.predict(X_test)\n",
        "\n",
        "#y_pred = np.zeros_like(y_test)"
      ]
    },
    {
      "cell_type": "markdown",
      "id": "twenty-mistake",
      "metadata": {
        "id": "twenty-mistake"
      },
      "source": [
        "### Print accuracy (do not modify the following block)"
      ]
    },
    {
      "cell_type": "code",
      "execution_count": 14,
      "id": "alien-concert",
      "metadata": {
        "scrolled": true,
        "colab": {
          "base_uri": "https://localhost:8080/"
        },
        "id": "alien-concert",
        "outputId": "657c7153-b7be-42b9-f588-8514a51937f7"
      },
      "outputs": [
        {
          "output_type": "stream",
          "name": "stdout",
          "text": [
            "Accuracy: 0.08\n"
          ]
        }
      ],
      "source": [
        "print('Accuracy: %.2f' % sklearn.metrics.accuracy_score(y_test, y_pred))"
      ]
    }
  ],
  "metadata": {
    "kernelspec": {
      "display_name": "Python 3 (ipykernel)",
      "language": "python",
      "name": "python3"
    },
    "language_info": {
      "codemirror_mode": {
        "name": "ipython",
        "version": 3
      },
      "file_extension": ".py",
      "mimetype": "text/x-python",
      "name": "python",
      "nbconvert_exporter": "python",
      "pygments_lexer": "ipython3",
      "version": "3.9.12"
    },
    "colab": {
      "provenance": []
    }
  },
  "nbformat": 4,
  "nbformat_minor": 5
}